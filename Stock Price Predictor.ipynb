{
 "cells": [
  {
   "cell_type": "markdown",
   "id": "a391e0f8",
   "metadata": {},
   "source": [
    "# Stock Price Predictor\n",
    "In this project I'll develop a model to predict stock prices. I'll be using data from Yahoo finance imported with the yfinance library. "
   ]
  },
  {
   "cell_type": "code",
   "execution_count": 1,
   "id": "04652f61",
   "metadata": {},
   "outputs": [],
   "source": [
    "import warnings\n",
    "warnings.filterwarnings(\"ignore\")\n",
    "import numpy as np\n",
    "import pandas as pd\n",
    "import matplotlib.pyplot as plt\n",
    "import seaborn as sns\n",
    "import yfinance as yf\n",
    "%matplotlib inline"
   ]
  },
  {
   "cell_type": "code",
   "execution_count": 2,
   "id": "136312d5",
   "metadata": {},
   "outputs": [
    {
     "name": "stdout",
     "output_type": "stream",
     "text": [
      "Enter the code of the stock: USD\n",
      "[*********************100%***********************]  1 of 1 completed\n"
     ]
    },
    {
     "data": {
      "text/html": [
       "<div>\n",
       "<style scoped>\n",
       "    .dataframe tbody tr th:only-of-type {\n",
       "        vertical-align: middle;\n",
       "    }\n",
       "\n",
       "    .dataframe tbody tr th {\n",
       "        vertical-align: top;\n",
       "    }\n",
       "\n",
       "    .dataframe thead th {\n",
       "        text-align: right;\n",
       "    }\n",
       "</style>\n",
       "<table border=\"1\" class=\"dataframe\">\n",
       "  <thead>\n",
       "    <tr style=\"text-align: right;\">\n",
       "      <th></th>\n",
       "      <th>Open</th>\n",
       "      <th>High</th>\n",
       "      <th>Low</th>\n",
       "      <th>Close</th>\n",
       "      <th>Volume</th>\n",
       "    </tr>\n",
       "    <tr>\n",
       "      <th>Date</th>\n",
       "      <th></th>\n",
       "      <th></th>\n",
       "      <th></th>\n",
       "      <th></th>\n",
       "      <th></th>\n",
       "    </tr>\n",
       "  </thead>\n",
       "  <tbody>\n",
       "    <tr>\n",
       "      <th>2009-12-31</th>\n",
       "      <td>1.334896</td>\n",
       "      <td>1.348245</td>\n",
       "      <td>1.311731</td>\n",
       "      <td>1.312909</td>\n",
       "      <td>3960000</td>\n",
       "    </tr>\n",
       "    <tr>\n",
       "      <th>2010-01-04</th>\n",
       "      <td>1.343533</td>\n",
       "      <td>1.373372</td>\n",
       "      <td>1.334896</td>\n",
       "      <td>1.356489</td>\n",
       "      <td>6669600</td>\n",
       "    </tr>\n",
       "    <tr>\n",
       "      <th>2010-01-05</th>\n",
       "      <td>1.359238</td>\n",
       "      <td>1.371016</td>\n",
       "      <td>1.330969</td>\n",
       "      <td>1.351386</td>\n",
       "      <td>5421600</td>\n",
       "    </tr>\n",
       "    <tr>\n",
       "      <th>2010-01-06</th>\n",
       "      <td>1.349815</td>\n",
       "      <td>1.363556</td>\n",
       "      <td>1.335288</td>\n",
       "      <td>1.343533</td>\n",
       "      <td>7764000</td>\n",
       "    </tr>\n",
       "    <tr>\n",
       "      <th>2010-01-07</th>\n",
       "      <td>1.332148</td>\n",
       "      <td>1.340786</td>\n",
       "      <td>1.300739</td>\n",
       "      <td>1.322332</td>\n",
       "      <td>7135200</td>\n",
       "    </tr>\n",
       "  </tbody>\n",
       "</table>\n",
       "</div>"
      ],
      "text/plain": [
       "                Open      High       Low     Close   Volume\n",
       "Date                                                       \n",
       "2009-12-31  1.334896  1.348245  1.311731  1.312909  3960000\n",
       "2010-01-04  1.343533  1.373372  1.334896  1.356489  6669600\n",
       "2010-01-05  1.359238  1.371016  1.330969  1.351386  5421600\n",
       "2010-01-06  1.349815  1.363556  1.335288  1.343533  7764000\n",
       "2010-01-07  1.332148  1.340786  1.300739  1.322332  7135200"
      ]
     },
     "execution_count": 2,
     "metadata": {},
     "output_type": "execute_result"
    }
   ],
   "source": [
    "stocks = input(\"Enter the code of the stock: \")\n",
    "data = yf.download(stocks, \"2010-01-01\",\"2022-04-30\", auto_adjust = True)\n",
    "data.head()"
   ]
  },
  {
   "cell_type": "markdown",
   "id": "82b824d3",
   "metadata": {},
   "source": [
    "Gets data from January 1st 2010 to April 30 2022"
   ]
  },
  {
   "cell_type": "code",
   "execution_count": 3,
   "id": "28c6b11c",
   "metadata": {},
   "outputs": [
    {
     "data": {
      "text/plain": [
       "(3104, 5)"
      ]
     },
     "execution_count": 3,
     "metadata": {},
     "output_type": "execute_result"
    }
   ],
   "source": [
    "data.shape\n"
   ]
  },
  {
   "cell_type": "code",
   "execution_count": 4,
   "id": "fe76e4e0",
   "metadata": {},
   "outputs": [
    {
     "name": "stdout",
     "output_type": "stream",
     "text": [
      "<class 'pandas.core.frame.DataFrame'>\n",
      "DatetimeIndex: 3104 entries, 2009-12-31 to 2022-04-29\n",
      "Data columns (total 5 columns):\n",
      " #   Column  Non-Null Count  Dtype  \n",
      "---  ------  --------------  -----  \n",
      " 0   Open    3104 non-null   float64\n",
      " 1   High    3104 non-null   float64\n",
      " 2   Low     3104 non-null   float64\n",
      " 3   Close   3104 non-null   float64\n",
      " 4   Volume  3104 non-null   int64  \n",
      "dtypes: float64(4), int64(1)\n",
      "memory usage: 145.5 KB\n"
     ]
    }
   ],
   "source": [
    "data.info()"
   ]
  },
  {
   "cell_type": "code",
   "execution_count": 5,
   "id": "b57addf8",
   "metadata": {},
   "outputs": [
    {
     "data": {
      "text/html": [
       "<div>\n",
       "<style scoped>\n",
       "    .dataframe tbody tr th:only-of-type {\n",
       "        vertical-align: middle;\n",
       "    }\n",
       "\n",
       "    .dataframe tbody tr th {\n",
       "        vertical-align: top;\n",
       "    }\n",
       "\n",
       "    .dataframe thead th {\n",
       "        text-align: right;\n",
       "    }\n",
       "</style>\n",
       "<table border=\"1\" class=\"dataframe\">\n",
       "  <thead>\n",
       "    <tr style=\"text-align: right;\">\n",
       "      <th></th>\n",
       "      <th>count</th>\n",
       "      <th>mean</th>\n",
       "      <th>std</th>\n",
       "      <th>min</th>\n",
       "      <th>25%</th>\n",
       "      <th>50%</th>\n",
       "      <th>75%</th>\n",
       "      <th>max</th>\n",
       "    </tr>\n",
       "  </thead>\n",
       "  <tbody>\n",
       "    <tr>\n",
       "      <th>Open</th>\n",
       "      <td>3104.0</td>\n",
       "      <td>8.914260</td>\n",
       "      <td>1.099750e+01</td>\n",
       "      <td>0.931020</td>\n",
       "      <td>1.673117</td>\n",
       "      <td>3.707654</td>\n",
       "      <td>11.052606</td>\n",
       "      <td>5.667000e+01</td>\n",
       "    </tr>\n",
       "    <tr>\n",
       "      <th>High</th>\n",
       "      <td>3104.0</td>\n",
       "      <td>9.081325</td>\n",
       "      <td>1.124825e+01</td>\n",
       "      <td>0.938494</td>\n",
       "      <td>1.693350</td>\n",
       "      <td>3.760145</td>\n",
       "      <td>11.224185</td>\n",
       "      <td>5.841000e+01</td>\n",
       "    </tr>\n",
       "    <tr>\n",
       "      <th>Low</th>\n",
       "      <td>3104.0</td>\n",
       "      <td>8.711182</td>\n",
       "      <td>1.067998e+01</td>\n",
       "      <td>0.891294</td>\n",
       "      <td>1.652732</td>\n",
       "      <td>3.657881</td>\n",
       "      <td>10.870813</td>\n",
       "      <td>5.450000e+01</td>\n",
       "    </tr>\n",
       "    <tr>\n",
       "      <th>Close</th>\n",
       "      <td>3104.0</td>\n",
       "      <td>8.900411</td>\n",
       "      <td>1.096895e+01</td>\n",
       "      <td>0.901520</td>\n",
       "      <td>1.671725</td>\n",
       "      <td>3.715656</td>\n",
       "      <td>11.030323</td>\n",
       "      <td>5.622000e+01</td>\n",
       "    </tr>\n",
       "    <tr>\n",
       "      <th>Volume</th>\n",
       "      <td>3104.0</td>\n",
       "      <td>893414.143041</td>\n",
       "      <td>2.034526e+06</td>\n",
       "      <td>0.000000</td>\n",
       "      <td>89100.000000</td>\n",
       "      <td>178600.000000</td>\n",
       "      <td>465600.000000</td>\n",
       "      <td>2.080560e+07</td>\n",
       "    </tr>\n",
       "  </tbody>\n",
       "</table>\n",
       "</div>"
      ],
      "text/plain": [
       "         count           mean           std       min           25%  \\\n",
       "Open    3104.0       8.914260  1.099750e+01  0.931020      1.673117   \n",
       "High    3104.0       9.081325  1.124825e+01  0.938494      1.693350   \n",
       "Low     3104.0       8.711182  1.067998e+01  0.891294      1.652732   \n",
       "Close   3104.0       8.900411  1.096895e+01  0.901520      1.671725   \n",
       "Volume  3104.0  893414.143041  2.034526e+06  0.000000  89100.000000   \n",
       "\n",
       "                  50%            75%           max  \n",
       "Open         3.707654      11.052606  5.667000e+01  \n",
       "High         3.760145      11.224185  5.841000e+01  \n",
       "Low          3.657881      10.870813  5.450000e+01  \n",
       "Close        3.715656      11.030323  5.622000e+01  \n",
       "Volume  178600.000000  465600.000000  2.080560e+07  "
      ]
     },
     "execution_count": 5,
     "metadata": {},
     "output_type": "execute_result"
    }
   ],
   "source": [
    "data.describe().T"
   ]
  },
  {
   "cell_type": "code",
   "execution_count": 6,
   "id": "b1ede30a",
   "metadata": {},
   "outputs": [
    {
     "data": {
      "image/png": "[encoded data removed]",
      "text/plain": [
       "<Figure size 720x504 with 1 Axes>"
      ]
     },
     "metadata": {
      "needs_background": "light"
     },
     "output_type": "display_data"
    },
    {
     "data": {
      "text/plain": [
       "<Figure size 432x288 with 0 Axes>"
      ]
     },
     "metadata": {},
     "output_type": "display_data"
    }
   ],
   "source": [
    "data.Close.plot(figsize = (10, 7), color='m' )\n",
    "plt.ylabel(\"{} Prices\".format(stocks))\n",
    "plt.title(\"{} Price Series\".format(stocks))\n",
    "plt.show()\n",
    "plt.savefig(\"plot1.png\")"
   ]
  },
  {
   "cell_type": "code",
   "execution_count": 7,
   "id": "2b6587d6",
   "metadata": {},
   "outputs": [
    {
     "data": {
      "text/plain": [
       "Open      0\n",
       "High      0\n",
       "Low       0\n",
       "Close     0\n",
       "Volume    0\n",
       "dtype: int64"
      ]
     },
     "execution_count": 7,
     "metadata": {},
     "output_type": "execute_result"
    }
   ],
   "source": [
    "data.isnull().sum()"
   ]
  },
  {
   "cell_type": "code",
   "execution_count": 8,
   "id": "559284e5",
   "metadata": {},
   "outputs": [
    {
     "data": {
      "text/plain": [
       "<AxesSubplot:xlabel='Close', ylabel='Density'>"
      ]
     },
     "execution_count": 8,
     "metadata": {},
     "output_type": "execute_result"
    },
    {
     "data": {
      "image/png": "[encoded data removed]",
      "text/plain": [
       "<Figure size 432x288 with 1 Axes>"
      ]
     },
     "metadata": {
      "needs_background": "light"
     },
     "output_type": "display_data"
    }
   ],
   "source": [
    "sns.distplot(data['Close'])"
   ]
  },
  {
   "cell_type": "code",
   "execution_count": 9,
   "id": "3323294f",
   "metadata": {},
   "outputs": [
    {
     "data": {
      "text/plain": [
       "<AxesSubplot:xlabel='Open', ylabel='Density'>"
      ]
     },
     "execution_count": 9,
     "metadata": {},
     "output_type": "execute_result"
    },
    {
     "data": {
      "image/png": "[encoded data removed]",
      "text/plain": [
       "<Figure size 432x288 with 1 Axes>"
      ]
     },
     "metadata": {
      "needs_background": "light"
     },
     "output_type": "display_data"
    }
   ],
   "source": [
    "sns.distplot(data['Open'])"
   ]
  },
  {
   "cell_type": "code",
   "execution_count": 10,
   "id": "a92eb2f8",
   "metadata": {},
   "outputs": [
    {
     "data": {
      "text/plain": [
       "<AxesSubplot:xlabel='High', ylabel='Density'>"
      ]
     },
     "execution_count": 10,
     "metadata": {},
     "output_type": "execute_result"
    },
    {
     "data": {
      "image/png": "[encoded data removed]",
      "text/plain": [
       "<Figure size 432x288 with 1 Axes>"
      ]
     },
     "metadata": {
      "needs_background": "light"
     },
     "output_type": "display_data"
    }
   ],
   "source": [
    "sns.distplot(data['High'])"
   ]
  },
  {
   "cell_type": "markdown",
   "id": "b7d17e5f",
   "metadata": {},
   "source": [
    "We can see from the shape of the data and how the data is distributed that it is very non-linear"
   ]
  },
  {
   "cell_type": "markdown",
   "id": "a79c6b4a",
   "metadata": {},
   "source": [
    "# Models to use:\n",
    "Linear Regression, SVMs"
   ]
  },
  {
   "cell_type": "code",
   "execution_count": 11,
   "id": "a6736bdb",
   "metadata": {},
   "outputs": [],
   "source": [
    "X = data.drop(\"Close\", axis = 1)\n",
    "y = data.Close"
   ]
  },
  {
   "cell_type": "code",
   "execution_count": 12,
   "id": "bd880d1b",
   "metadata": {},
   "outputs": [
    {
     "name": "stdout",
     "output_type": "stream",
     "text": [
      "(2483, 4)\n",
      "(621, 4)\n",
      "(2483,)\n",
      "(621,)\n"
     ]
    }
   ],
   "source": [
    "from sklearn.model_selection import train_test_split\n",
    "X_train, X_test, y_train, y_test = train_test_split(X,y, test_size = 0.2, random_state = 42)\n",
    "print(X_train.shape)\n",
    "print(X_test.shape)\n",
    "print(y_train.shape)\n",
    "print(y_test.shape)"
   ]
  },
  {
   "cell_type": "code",
   "execution_count": 13,
   "id": "ea76a599",
   "metadata": {},
   "outputs": [],
   "source": [
    "from sklearn.linear_model import LinearRegression"
   ]
  },
  {
   "cell_type": "code",
   "execution_count": 14,
   "id": "849452e7",
   "metadata": {},
   "outputs": [],
   "source": [
    "linear_model = LinearRegression()\n",
    "linear_model.fit(X_train, y_train)\n",
    "pred1 = linear_model.predict(X_test)"
   ]
  },
  {
   "cell_type": "code",
   "execution_count": 15,
   "id": "670e80ee",
   "metadata": {},
   "outputs": [
    {
     "data": {
      "text/html": [
       "<div>\n",
       "<style scoped>\n",
       "    .dataframe tbody tr th:only-of-type {\n",
       "        vertical-align: middle;\n",
       "    }\n",
       "\n",
       "    .dataframe tbody tr th {\n",
       "        vertical-align: top;\n",
       "    }\n",
       "\n",
       "    .dataframe thead th {\n",
       "        text-align: right;\n",
       "    }\n",
       "</style>\n",
       "<table border=\"1\" class=\"dataframe\">\n",
       "  <thead>\n",
       "    <tr style=\"text-align: right;\">\n",
       "      <th></th>\n",
       "      <th>0</th>\n",
       "    </tr>\n",
       "  </thead>\n",
       "  <tbody>\n",
       "    <tr>\n",
       "      <th>0</th>\n",
       "      <td>4.360106</td>\n",
       "    </tr>\n",
       "    <tr>\n",
       "      <th>1</th>\n",
       "      <td>10.723603</td>\n",
       "    </tr>\n",
       "    <tr>\n",
       "      <th>2</th>\n",
       "      <td>1.652604</td>\n",
       "    </tr>\n",
       "    <tr>\n",
       "      <th>3</th>\n",
       "      <td>1.217623</td>\n",
       "    </tr>\n",
       "    <tr>\n",
       "      <th>4</th>\n",
       "      <td>2.424552</td>\n",
       "    </tr>\n",
       "  </tbody>\n",
       "</table>\n",
       "</div>"
      ],
      "text/plain": [
       "           0\n",
       "0   4.360106\n",
       "1  10.723603\n",
       "2   1.652604\n",
       "3   1.217623\n",
       "4   2.424552"
      ]
     },
     "execution_count": 15,
     "metadata": {},
     "output_type": "execute_result"
    }
   ],
   "source": [
    "predictions = pd.DataFrame(pred1)\n",
    "predictions.head()"
   ]
  },
  {
   "cell_type": "code",
   "execution_count": 16,
   "id": "adce7cec",
   "metadata": {},
   "outputs": [
    {
     "data": {
      "text/plain": [
       "Date\n",
       "2016-07-27     4.373410\n",
       "2018-09-11    10.667235\n",
       "2011-03-24     1.663919\n",
       "2012-12-18     1.227824\n",
       "2014-05-13     2.411169\n",
       "Name: Close, dtype: float64"
      ]
     },
     "execution_count": 16,
     "metadata": {},
     "output_type": "execute_result"
    }
   ],
   "source": [
    "y_test.head(5)"
   ]
  },
  {
   "cell_type": "code",
   "execution_count": 17,
   "id": "8fa6bd11",
   "metadata": {},
   "outputs": [
    {
     "name": "stdout",
     "output_type": "stream",
     "text": [
      "Mean Squared Error =  0.04143297609215861\n",
      "RMSE =  0.20355091768930597\n",
      "R2_score =  0.9996073802075746\n"
     ]
    }
   ],
   "source": [
    "# Calculating the mean squared error and rmse and r2_score\n",
    "from sklearn.metrics import r2_score, mean_squared_error\n",
    "def calculate_metrics(y_test, pred1):\n",
    "    \"\"\"\n",
    "    y_test = ground truth/ actual value\n",
    "    y_pred = model predictions\n",
    "    \"\"\"\n",
    "    mse = mean_squared_error(y_test, pred1)\n",
    "    rmse = np.sqrt(mse)\n",
    "    r2 = r2_score(y_test, pred1)\n",
    "    \n",
    "    print(\"Mean Squared Error = \", mse)\n",
    "    print(\"RMSE = \", rmse)\n",
    "    print(\"R2_score = \", r2)\n",
    "\n",
    "calculate_metrics(y_test, pred1)"
   ]
  },
  {
   "cell_type": "code",
   "execution_count": 18,
   "id": "b236539f",
   "metadata": {},
   "outputs": [],
   "source": [
    "from sklearn.linear_model import Lasso, Ridge\n",
    "\n",
    "lasso_model = Lasso().fit(X_train, y_train)\n",
    "ridge_model= Ridge().fit(X_train, y_train)\n",
    "\n",
    "lasso_pred = lasso_model.predict(X_test)\n",
    "ridge_pred = ridge_model.predict(X_test)"
   ]
  },
  {
   "cell_type": "code",
   "execution_count": 19,
   "id": "d92b6449",
   "metadata": {},
   "outputs": [
    {
     "name": "stdout",
     "output_type": "stream",
     "text": [
      "Mean Squared Error =  0.11439010847426952\n",
      "RMSE =  0.338216067735212\n",
      "R2_score =  0.998916036817032\n"
     ]
    }
   ],
   "source": [
    "calculate_metrics(y_test, lasso_pred)"
   ]
  },
  {
   "cell_type": "code",
   "execution_count": 20,
   "id": "c8e51c17",
   "metadata": {},
   "outputs": [
    {
     "name": "stdout",
     "output_type": "stream",
     "text": [
      "Mean Squared Error =  0.04133909125102469\n",
      "RMSE =  0.20332016931683067\n",
      "R2_score =  0.9996082698623934\n"
     ]
    }
   ],
   "source": [
    "calculate_metrics(y_test, ridge_pred)"
   ]
  },
  {
   "cell_type": "code",
   "execution_count": 21,
   "id": "f8474a14",
   "metadata": {
    "scrolled": true
   },
   "outputs": [
    {
     "name": "stdout",
     "output_type": "stream",
     "text": [
      "Fitting 5 folds for each of 25 candidates, totalling 125 fits\n",
      "[CV 1/5] END .......C=0.1, gamma=1, kernel=rbf;, score=-0.210 total time=   0.6s\n",
      "[CV 2/5] END .......C=0.1, gamma=1, kernel=rbf;, score=-0.226 total time=   0.5s\n",
      "[CV 3/5] END .......C=0.1, gamma=1, kernel=rbf;, score=-0.206 total time=   0.5s\n",
      "[CV 4/5] END .......C=0.1, gamma=1, kernel=rbf;, score=-0.193 total time=   0.4s\n",
      "[CV 5/5] END .......C=0.1, gamma=1, kernel=rbf;, score=-0.237 total time=   0.6s\n",
      "[CV 1/5] END .....C=0.1, gamma=0.1, kernel=rbf;, score=-0.201 total time=   0.5s\n",
      "[CV 2/5] END .....C=0.1, gamma=0.1, kernel=rbf;, score=-0.217 total time=   0.6s\n",
      "[CV 3/5] END .....C=0.1, gamma=0.1, kernel=rbf;, score=-0.197 total time=   0.4s\n",
      "[CV 4/5] END .....C=0.1, gamma=0.1, kernel=rbf;, score=-0.182 total time=   0.6s\n",
      "[CV 5/5] END .....C=0.1, gamma=0.1, kernel=rbf;, score=-0.228 total time=   0.5s\n",
      "[CV 1/5] END ....C=0.1, gamma=0.01, kernel=rbf;, score=-0.196 total time=   0.9s\n",
      "[CV 2/5] END ....C=0.1, gamma=0.01, kernel=rbf;, score=-0.213 total time=   1.0s\n",
      "[CV 3/5] END ....C=0.1, gamma=0.01, kernel=rbf;, score=-0.193 total time=   1.0s\n",
      "[CV 4/5] END ....C=0.1, gamma=0.01, kernel=rbf;, score=-0.177 total time=   0.4s\n",
      "[CV 5/5] END ....C=0.1, gamma=0.01, kernel=rbf;, score=-0.224 total time=   0.6s\n",
      "[CV 1/5] END ...C=0.1, gamma=0.001, kernel=rbf;, score=-0.200 total time=   0.5s\n",
      "[CV 2/5] END ...C=0.1, gamma=0.001, kernel=rbf;, score=-0.217 total time=   0.4s\n",
      "[CV 3/5] END ...C=0.1, gamma=0.001, kernel=rbf;, score=-0.196 total time=   0.6s\n",
      "[CV 4/5] END ...C=0.1, gamma=0.001, kernel=rbf;, score=-0.180 total time=   0.6s\n",
      "[CV 5/5] END ...C=0.1, gamma=0.001, kernel=rbf;, score=-0.227 total time=   0.6s\n",
      "[CV 1/5] END ..C=0.1, gamma=0.0001, kernel=rbf;, score=-0.201 total time=   0.4s\n",
      "[CV 2/5] END ..C=0.1, gamma=0.0001, kernel=rbf;, score=-0.217 total time=   0.7s\n",
      "[CV 3/5] END ..C=0.1, gamma=0.0001, kernel=rbf;, score=-0.196 total time=   0.5s\n",
      "[CV 4/5] END ..C=0.1, gamma=0.0001, kernel=rbf;, score=-0.181 total time=   0.6s\n",
      "[CV 5/5] END ..C=0.1, gamma=0.0001, kernel=rbf;, score=-0.228 total time=   0.5s\n",
      "[CV 1/5] END .........C=1, gamma=1, kernel=rbf;, score=-0.144 total time=   0.7s\n",
      "[CV 2/5] END .........C=1, gamma=1, kernel=rbf;, score=-0.163 total time=   0.4s\n",
      "[CV 3/5] END .........C=1, gamma=1, kernel=rbf;, score=-0.138 total time=   0.5s\n",
      "[CV 4/5] END .........C=1, gamma=1, kernel=rbf;, score=-0.122 total time=   0.7s\n",
      "[CV 5/5] END .........C=1, gamma=1, kernel=rbf;, score=-0.172 total time=   0.6s\n",
      "[CV 1/5] END .......C=1, gamma=0.1, kernel=rbf;, score=-0.094 total time=   0.6s\n",
      "[CV 2/5] END .......C=1, gamma=0.1, kernel=rbf;, score=-0.114 total time=   0.5s\n",
      "[CV 3/5] END .......C=1, gamma=0.1, kernel=rbf;, score=-0.086 total time=   0.6s\n",
      "[CV 4/5] END .......C=1, gamma=0.1, kernel=rbf;, score=-0.066 total time=   0.6s\n",
      "[CV 5/5] END .......C=1, gamma=0.1, kernel=rbf;, score=-0.123 total time=   0.6s\n",
      "[CV 1/5] END ......C=1, gamma=0.01, kernel=rbf;, score=-0.066 total time=   0.8s\n",
      "[CV 2/5] END ......C=1, gamma=0.01, kernel=rbf;, score=-0.084 total time=   0.6s\n",
      "[CV 3/5] END ......C=1, gamma=0.01, kernel=rbf;, score=-0.055 total time=   0.6s\n",
      "[CV 4/5] END ......C=1, gamma=0.01, kernel=rbf;, score=-0.030 total time=   0.7s\n",
      "[CV 5/5] END ......C=1, gamma=0.01, kernel=rbf;, score=-0.098 total time=   0.4s\n",
      "[CV 1/5] END .....C=1, gamma=0.001, kernel=rbf;, score=-0.090 total time=   0.6s\n",
      "[CV 2/5] END .....C=1, gamma=0.001, kernel=rbf;, score=-0.106 total time=   0.5s\n",
      "[CV 3/5] END .....C=1, gamma=0.001, kernel=rbf;, score=-0.078 total time=   0.6s\n",
      "[CV 4/5] END .....C=1, gamma=0.001, kernel=rbf;, score=-0.053 total time=   0.5s\n",
      "[CV 5/5] END .....C=1, gamma=0.001, kernel=rbf;, score=-0.120 total time=   0.5s\n",
      "[CV 1/5] END ....C=1, gamma=0.0001, kernel=rbf;, score=-0.098 total time=   0.6s\n",
      "[CV 2/5] END ....C=1, gamma=0.0001, kernel=rbf;, score=-0.113 total time=   0.5s\n",
      "[CV 3/5] END ....C=1, gamma=0.0001, kernel=rbf;, score=-0.084 total time=   0.7s\n",
      "[CV 4/5] END ....C=1, gamma=0.0001, kernel=rbf;, score=-0.055 total time=   0.5s\n",
      "[CV 5/5] END ....C=1, gamma=0.0001, kernel=rbf;, score=-0.126 total time=   0.7s\n",
      "[CV 1/5] END .........C=10, gamma=1, kernel=rbf;, score=0.048 total time=   0.6s\n",
      "[CV 2/5] END .........C=10, gamma=1, kernel=rbf;, score=0.034 total time=   0.7s\n",
      "[CV 3/5] END .........C=10, gamma=1, kernel=rbf;, score=0.059 total time=   0.7s\n",
      "[CV 4/5] END .........C=10, gamma=1, kernel=rbf;, score=0.079 total time=   0.7s\n",
      "[CV 5/5] END .........C=10, gamma=1, kernel=rbf;, score=0.017 total time=   0.6s\n",
      "[CV 1/5] END .......C=10, gamma=0.1, kernel=rbf;, score=0.087 total time=   0.8s\n",
      "[CV 2/5] END .......C=10, gamma=0.1, kernel=rbf;, score=0.078 total time=   0.5s\n",
      "[CV 3/5] END .......C=10, gamma=0.1, kernel=rbf;, score=0.108 total time=   0.7s\n",
      "[CV 4/5] END .......C=10, gamma=0.1, kernel=rbf;, score=0.125 total time=   0.6s\n",
      "[CV 5/5] END .......C=10, gamma=0.1, kernel=rbf;, score=0.054 total time=   0.5s\n",
      "[CV 1/5] END ......C=10, gamma=0.01, kernel=rbf;, score=0.112 total time=   0.6s\n",
      "[CV 2/5] END ......C=10, gamma=0.01, kernel=rbf;, score=0.112 total time=   0.5s\n",
      "[CV 3/5] END ......C=10, gamma=0.01, kernel=rbf;, score=0.140 total time=   0.6s\n",
      "[CV 4/5] END ......C=10, gamma=0.01, kernel=rbf;, score=0.152 total time=   0.5s\n",
      "[CV 5/5] END ......C=10, gamma=0.01, kernel=rbf;, score=0.087 total time=   0.7s\n",
      "[CV 1/5] END .....C=10, gamma=0.001, kernel=rbf;, score=0.115 total time=   0.4s\n",
      "[CV 2/5] END .....C=10, gamma=0.001, kernel=rbf;, score=0.121 total time=   0.6s\n",
      "[CV 3/5] END .....C=10, gamma=0.001, kernel=rbf;, score=0.157 total time=   0.4s\n",
      "[CV 4/5] END .....C=10, gamma=0.001, kernel=rbf;, score=0.151 total time=   0.5s\n",
      "[CV 5/5] END .....C=10, gamma=0.001, kernel=rbf;, score=0.103 total time=   0.5s\n",
      "[CV 1/5] END ....C=10, gamma=0.0001, kernel=rbf;, score=0.078 total time=   0.4s\n",
      "[CV 2/5] END ....C=10, gamma=0.0001, kernel=rbf;, score=0.091 total time=   0.6s\n",
      "[CV 3/5] END ....C=10, gamma=0.0001, kernel=rbf;, score=0.132 total time=   0.5s\n",
      "[CV 4/5] END ....C=10, gamma=0.0001, kernel=rbf;, score=0.121 total time=   0.6s\n",
      "[CV 5/5] END ....C=10, gamma=0.0001, kernel=rbf;, score=0.081 total time=   0.5s\n",
      "[CV 1/5] END ........C=100, gamma=1, kernel=rbf;, score=0.132 total time=   0.6s\n",
      "[CV 2/5] END ........C=100, gamma=1, kernel=rbf;, score=0.120 total time=   0.6s\n",
      "[CV 3/5] END ........C=100, gamma=1, kernel=rbf;, score=0.130 total time=   0.7s\n",
      "[CV 4/5] END ........C=100, gamma=1, kernel=rbf;, score=0.129 total time=   0.6s\n",
      "[CV 5/5] END ........C=100, gamma=1, kernel=rbf;, score=0.108 total time=   0.7s\n",
      "[CV 1/5] END ......C=100, gamma=0.1, kernel=rbf;, score=0.185 total time=   0.8s\n",
      "[CV 2/5] END ......C=100, gamma=0.1, kernel=rbf;, score=0.178 total time=   0.8s\n",
      "[CV 3/5] END ......C=100, gamma=0.1, kernel=rbf;, score=0.194 total time=   0.7s\n",
      "[CV 4/5] END ......C=100, gamma=0.1, kernel=rbf;, score=0.180 total time=   0.8s\n",
      "[CV 5/5] END ......C=100, gamma=0.1, kernel=rbf;, score=0.159 total time=   0.7s\n",
      "[CV 1/5] END .....C=100, gamma=0.01, kernel=rbf;, score=0.212 total time=   1.0s\n",
      "[CV 2/5] END .....C=100, gamma=0.01, kernel=rbf;, score=0.220 total time=   0.8s\n",
      "[CV 3/5] END .....C=100, gamma=0.01, kernel=rbf;, score=0.228 total time=   0.9s\n",
      "[CV 4/5] END .....C=100, gamma=0.01, kernel=rbf;, score=0.199 total time=   0.9s\n",
      "[CV 5/5] END .....C=100, gamma=0.01, kernel=rbf;, score=0.198 total time=   0.8s\n",
      "[CV 1/5] END ....C=100, gamma=0.001, kernel=rbf;, score=0.235 total time=   0.8s\n",
      "[CV 2/5] END ....C=100, gamma=0.001, kernel=rbf;, score=0.246 total time=   0.8s\n",
      "[CV 3/5] END ....C=100, gamma=0.001, kernel=rbf;, score=0.276 total time=   0.7s\n",
      "[CV 4/5] END ....C=100, gamma=0.001, kernel=rbf;, score=0.211 total time=   0.8s\n",
      "[CV 5/5] END ....C=100, gamma=0.001, kernel=rbf;, score=0.245 total time=   0.7s\n",
      "[CV 1/5] END ...C=100, gamma=0.0001, kernel=rbf;, score=0.242 total time=   0.6s\n",
      "[CV 2/5] END ...C=100, gamma=0.0001, kernel=rbf;, score=0.245 total time=   0.5s\n",
      "[CV 3/5] END ...C=100, gamma=0.0001, kernel=rbf;, score=0.300 total time=   0.6s\n",
      "[CV 4/5] END ...C=100, gamma=0.0001, kernel=rbf;, score=0.233 total time=   0.5s\n",
      "[CV 5/5] END ...C=100, gamma=0.0001, kernel=rbf;, score=0.241 total time=   0.6s\n",
      "[CV 1/5] END .......C=1000, gamma=1, kernel=rbf;, score=0.132 total time=   1.1s\n"
     ]
    },
    {
     "name": "stdout",
     "output_type": "stream",
     "text": [
      "[CV 2/5] END .......C=1000, gamma=1, kernel=rbf;, score=0.120 total time=   1.2s\n",
      "[CV 3/5] END .......C=1000, gamma=1, kernel=rbf;, score=0.130 total time=   0.7s\n",
      "[CV 4/5] END .......C=1000, gamma=1, kernel=rbf;, score=0.129 total time=   0.6s\n",
      "[CV 5/5] END .......C=1000, gamma=1, kernel=rbf;, score=0.108 total time=   0.7s\n",
      "[CV 1/5] END .....C=1000, gamma=0.1, kernel=rbf;, score=0.185 total time=   0.6s\n",
      "[CV 2/5] END .....C=1000, gamma=0.1, kernel=rbf;, score=0.178 total time=   0.7s\n",
      "[CV 3/5] END .....C=1000, gamma=0.1, kernel=rbf;, score=0.194 total time=   0.6s\n",
      "[CV 4/5] END .....C=1000, gamma=0.1, kernel=rbf;, score=0.180 total time=   1.1s\n",
      "[CV 5/5] END .....C=1000, gamma=0.1, kernel=rbf;, score=0.159 total time=   0.7s\n",
      "[CV 1/5] END ....C=1000, gamma=0.01, kernel=rbf;, score=0.212 total time=   1.0s\n",
      "[CV 2/5] END ....C=1000, gamma=0.01, kernel=rbf;, score=0.220 total time=   0.9s\n",
      "[CV 3/5] END ....C=1000, gamma=0.01, kernel=rbf;, score=0.228 total time=   1.1s\n",
      "[CV 4/5] END ....C=1000, gamma=0.01, kernel=rbf;, score=0.199 total time=   2.0s\n",
      "[CV 5/5] END ....C=1000, gamma=0.01, kernel=rbf;, score=0.198 total time=   1.7s\n",
      "[CV 1/5] END ...C=1000, gamma=0.001, kernel=rbf;, score=0.239 total time=   1.8s\n",
      "[CV 2/5] END ...C=1000, gamma=0.001, kernel=rbf;, score=0.251 total time=   1.2s\n",
      "[CV 3/5] END ...C=1000, gamma=0.001, kernel=rbf;, score=0.276 total time=   1.4s\n",
      "[CV 4/5] END ...C=1000, gamma=0.001, kernel=rbf;, score=0.215 total time=   1.2s\n",
      "[CV 5/5] END ...C=1000, gamma=0.001, kernel=rbf;, score=0.247 total time=   1.4s\n",
      "[CV 1/5] END ..C=1000, gamma=0.0001, kernel=rbf;, score=0.293 total time=   0.8s\n",
      "[CV 2/5] END ..C=1000, gamma=0.0001, kernel=rbf;, score=0.283 total time=   0.8s\n",
      "[CV 3/5] END ..C=1000, gamma=0.0001, kernel=rbf;, score=0.331 total time=   0.7s\n",
      "[CV 4/5] END ..C=1000, gamma=0.0001, kernel=rbf;, score=0.312 total time=   0.8s\n",
      "[CV 5/5] END ..C=1000, gamma=0.0001, kernel=rbf;, score=0.290 total time=   0.6s\n"
     ]
    },
    {
     "data": {
      "text/plain": [
       "GridSearchCV(estimator=SVR(),\n",
       "             param_grid={'C': [0.1, 1, 10, 100, 1000],\n",
       "                         'gamma': [1, 0.1, 0.01, 0.001, 0.0001],\n",
       "                         'kernel': ['rbf']},\n",
       "             verbose=3)"
      ]
     },
     "execution_count": 21,
     "metadata": {},
     "output_type": "execute_result"
    }
   ],
   "source": [
    "from sklearn.svm import SVR\n",
    "from sklearn.model_selection import GridSearchCV\n",
    "\n",
    "\n",
    "svr = SVR()\n",
    "\n",
    "params = {\"C\": [0.1, 1, 10, 100, 1000],\n",
    "         \"gamma\": [1, 0.1, 0.01, 0.001, 0.0001],\n",
    "          \"kernel\": ['rbf']\n",
    "         }\n",
    "grid = GridSearchCV(SVR(), params, refit = True, verbose = 3)\n",
    "grid.fit(X_train, y_train)"
   ]
  },
  {
   "cell_type": "code",
   "execution_count": 22,
   "id": "bd2566ec",
   "metadata": {},
   "outputs": [],
   "source": [
    "svr = SVR(C = 1000, gamma = 0.0001, kernel = 'rbf')\n",
    "svr.fit(X_train, y_train)\n",
    "svr_pred = svr.predict(X_test)\n",
    "df = pd.DataFrame(svr_pred)"
   ]
  },
  {
   "cell_type": "code",
   "execution_count": 23,
   "id": "21d8b358",
   "metadata": {},
   "outputs": [
    {
     "data": {
      "text/plain": [
       "['linear_model.pkl']"
      ]
     },
     "execution_count": 23,
     "metadata": {},
     "output_type": "execute_result"
    }
   ],
   "source": [
    "import joblib\n",
    "joblib.dump(linear_model, 'linear_model.pkl')"
   ]
  },
  {
   "cell_type": "code",
   "execution_count": 24,
   "id": "fba16391",
   "metadata": {},
   "outputs": [
    {
     "data": {
      "text/plain": [
       "array([3049.0177024])"
      ]
     },
     "execution_count": 24,
     "metadata": {},
     "output_type": "execute_result"
    }
   ],
   "source": [
    "def predict_price(Open, High, Low, Volume):\n",
    "    test_data = np.array([[Open, High, Low, Volume]])\n",
    "    trained_model = joblib.load(\"linear_model.pkl\")\n",
    "    prediction = trained_model.predict(test_data)\n",
    "    return prediction\n",
    "    \n",
    "predict_price(100,220,3400,30000)"
   ]
  }
 ],
 "metadata": {
  "kernelspec": {
   "display_name": "Python 3 (ipykernel)",
   "language": "python",
   "name": "python3"
  },
  "language_info": {
   "codemirror_mode": {
    "name": "ipython",
    "version": 3
   },
   "file_extension": ".py",
   "mimetype": "text/x-python",
   "name": "python",
   "nbconvert_exporter": "python",
   "pygments_lexer": "ipython3",
   "version": "3.9.7"
  }
 },
 "nbformat": 4,
 "nbformat_minor": 5
}
